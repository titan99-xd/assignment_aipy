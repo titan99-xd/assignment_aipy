{
  "nbformat": 4,
  "nbformat_minor": 0,
  "metadata": {
    "colab": {
      "provenance": []
    },
    "kernelspec": {
      "name": "python3",
      "display_name": "Python 3"
    },
    "language_info": {
      "name": "python"
    }
  },
  "cells": [
    {
      "cell_type": "code",
      "execution_count": 12,
      "metadata": {
        "id": "XYZj60XD3M35"
      },
      "outputs": [],
      "source": [
        "import numpy as np"
      ]
    },
    {
      "cell_type": "code",
      "source": [
        "#Create array and convert to 3*3 matrix\n",
        "a = np.array([1, 2, 3, 0, 1, 4, 5, 6, 0]).reshape(3, 3)\n"
      ],
      "metadata": {
        "id": "hZFKhhNK361f"
      },
      "execution_count": 13,
      "outputs": []
    },
    {
      "cell_type": "code",
      "source": [
        "#Calculate inverse of set a\n",
        "inverse_of_a = np.linalg.inv(a)\n",
        "#its not necessary to print but you can always check for your cruosity\n",
        "print(inverse_of_a)"
      ],
      "metadata": {
        "colab": {
          "base_uri": "https://localhost:8080/"
        },
        "id": "LqLOE-ys3-c5",
        "outputId": "e89a6bc8-53f1-4e54-ac8f-5d7ec261013f"
      },
      "execution_count": 14,
      "outputs": [
        {
          "output_type": "stream",
          "name": "stdout",
          "text": [
            "[[-24.  18.   5.]\n",
            " [ 20. -15.  -4.]\n",
            " [ -5.   4.   1.]]\n"
          ]
        }
      ]
    },
    {
      "cell_type": "code",
      "source": [
        "#Calculate product of a and inverse of a\n",
        "product_1 = a@inverse_of_a\n",
        "product_2 = inverse_of_a@a"
      ],
      "metadata": {
        "id": "9b3yZUWS4BiI"
      },
      "execution_count": 15,
      "outputs": []
    },
    {
      "cell_type": "code",
      "source": [
        "#Create identity matrix\n",
        "identity = np.identity(3)"
      ],
      "metadata": {
        "id": "i-goXAh54GKe"
      },
      "execution_count": 16,
      "outputs": []
    },
    {
      "cell_type": "code",
      "source": [
        "#Check if product of set a with its inverse is equal to identity matrix\n",
        "print(np.allclose(product_1, identity))\n",
        "print(np.allclose(product_2, identity))"
      ],
      "metadata": {
        "colab": {
          "base_uri": "https://localhost:8080/"
        },
        "id": "70GZTgTo4Ibw",
        "outputId": "f20147d5-e416-4196-a2cf-5344272fbfbb"
      },
      "execution_count": 17,
      "outputs": [
        {
          "output_type": "stream",
          "name": "stdout",
          "text": [
            "True\n",
            "True\n"
          ]
        }
      ]
    }
  ]
}